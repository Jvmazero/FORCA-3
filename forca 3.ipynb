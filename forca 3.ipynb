{
 "cells": [
  {
   "cell_type": "code",
   "execution_count": null,
   "id": "71c8cfcd-a151-4e35-b9db-04561ad44038",
   "metadata": {},
   "outputs": [
    {
     "name": "stdout",
     "output_type": "stream",
     "text": [
      "_ _ _ _ _ _ Você tem 4 chances\n"
     ]
    },
    {
     "name": "stdin",
     "output_type": "stream",
     "text": [
      "Escolha uma letra para adivinhar:  p\n"
     ]
    },
    {
     "name": "stdout",
     "output_type": "stream",
     "text": [
      "p _ _ _ _ _ Você tem 4 chances\n"
     ]
    }
   ],
   "source": [
    "\n",
    "\n",
    "palavra = \"python\"\n",
    "\n",
    "letras_usuario = []\n",
    "\n",
    "chances = 4\n",
    "\n",
    "ganhou = False\n",
    "\n",
    "while True:\n",
    "\n",
    "    # criar a logica\n",
    "\n",
    "    for letra in palavra:\n",
    "\n",
    "        if letra.lower() in letras_usuario:\n",
    "\n",
    "            print(letra, end=\" \")\n",
    "\n",
    "        else:\n",
    "\n",
    "            print(\"_\", end=\" \")\n",
    "\n",
    "    print(f\"Você tem {chances} chances\")\n",
    "\n",
    "    tentativa = input(\"Escolha uma letra para adivinhar: \")\n",
    "\n",
    "    letras_usuario.append(tentativa.lower())\n",
    "\n",
    "    if tentativa.lower() not in palavra.lower():\n",
    "\n",
    "        chances -= 1\n",
    "\n",
    "    ganhou = True\n",
    "\n",
    "    for letra in palavra:\n",
    "\n",
    "        if letra.lower() not in letras_usuario:\n",
    "\n",
    "            ganhou = False\n",
    "\n",
    "    if chances == 0 or ganhou:\n",
    "\n",
    "        break\n",
    "\n",
    "if ganhou:\n",
    "\n",
    "    print(f\"Parabéns, você ganhou. A palavra era: {palavra}\")\n",
    "\n",
    "else:\n",
    "\n",
    "    print(f\"Você perdeu! A palavra era: {palavra}\")"
   ]
  },
  {
   "cell_type": "code",
   "execution_count": null,
   "id": "39a0656d-076b-4f15-b809-7345b16dc64f",
   "metadata": {},
   "outputs": [],
   "source": []
  }
 ],
 "metadata": {
  "kernelspec": {
   "display_name": "Python 3 (ipykernel)",
   "language": "python",
   "name": "python3"
  },
  "language_info": {
   "codemirror_mode": {
    "name": "ipython",
    "version": 3
   },
   "file_extension": ".py",
   "mimetype": "text/x-python",
   "name": "python",
   "nbconvert_exporter": "python",
   "pygments_lexer": "ipython3",
   "version": "3.11.7"
  }
 },
 "nbformat": 4,
 "nbformat_minor": 5
}
